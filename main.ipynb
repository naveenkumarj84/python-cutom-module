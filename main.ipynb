{
 "cells": [
  {
   "cell_type": "code",
   "execution_count": null,
   "id": "e46c33b5-18f5-472a-a884-26dc482ef9ba",
   "metadata": {},
   "outputs": [
    {
     "name": "stdout",
     "output_type": "stream",
     "text": [
      "Welcome to Tic Tac Toe!\n",
      "\n",
      "\n",
      "  |   |  \n",
      "---------\n",
      "  |   |  \n",
      "---------\n",
      "  |   |  \n",
      "\n",
      "\n"
     ]
    }
   ],
   "source": [
    "# main.py\n",
    "\n",
    "from tictactoe import TicTacToe\n",
    "\n",
    "def play_game():\n",
    "    game = TicTacToe()\n",
    "    print(\"Welcome to Tic Tac Toe!\")\n",
    "    game.display_boa0 rd()\n",
    "\n",
    "    while True:\n",
    "        try:\n",
    "            position = int(input(f\"Player {game.current_player}, enter your move (0-8): \"))\n",
    "            if position < 0 or position > 8:\n",
    "                print(\"Invalid position! Please choose a number between 0 and 8.\")\n",
    "                continue\n",
    "\n",
    "            if not game.make_move(position):\n",
    "                print(\"Spot already taken! Try another position.\")\n",
    "                continue\n",
    "\n",
    "            game.display_board()\n",
    "            result = game.check_winner()\n",
    "            if result:\n",
    "                if result == \"Draw\":\n",
    "                    print(\"It's a draw!\")\n",
    "                else:\n",
    "                    print(f\"Player {result} wins!\")\n",
    "                break\n",
    "\n",
    "            game.switch_player()\n",
    "        except ValueError:\n",
    "            print(\"Invalid input! Please enter a number between 0 and 8.\")\n",
    "\n",
    "if __name__ == \"__main__\":\n",
    "    play_game()\n"
   ]
  },
  {
   "cell_type": "code",
   "execution_count": null,
   "id": "eb21f50d-111b-46ef-a779-8252ccc7e9d3",
   "metadata": {},
   "outputs": [],
   "source": []
  }
 ],
 "metadata": {
  "kernelspec": {
   "display_name": "Python 3 (ipykernel)",
   "language": "python",
   "name": "python3"
  },
  "language_info": {
   "codemirror_mode": {
    "name": "ipython",
    "version": 3
   },
   "file_extension": ".py",
   "mimetype": "text/x-python",
   "name": "python",
   "nbconvert_exporter": "python",
   "pygments_lexer": "ipython3",
   "version": "3.12.4"
  }
 },
 "nbformat": 4,
 "nbformat_minor": 5
}
